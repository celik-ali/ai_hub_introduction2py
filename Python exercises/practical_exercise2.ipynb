{
  "nbformat": 4,
  "nbformat_minor": 0,
  "metadata": {
    "colab": {
      "provenance": []
    },
    "kernelspec": {
      "name": "python3",
      "display_name": "Python 3"
    },
    "language_info": {
      "name": "python"
    }
  },
  "cells": [
    {
      "cell_type": "markdown",
      "source": [
        "# Practical exercise 2:  You are a game developer :)\n",
        "\n",
        "In this practical exercise you are a game developer. You will program your first game – Rock, Paper, Scissors.\n",
        "\n",
        "If you are not familiar with the game, you can read about it here: https://en.wikipedia.org/wiki/Rock_paper_scissors.\n",
        "\n",
        "You will program the game step by step. Please read the instructions carefully. There are hints and important explanations that will help you with this exercise."
      ],
      "metadata": {
        "id": "tBDsFMQwBs6Z"
      }
    },
    {
      "cell_type": "markdown",
      "source": [
        "##Warm up\n",
        "\n",
        "Each player can choose between the three actions \"rock\", \"paper\" and \"scissors\". First, you need to create a list that contains all possible actions. "
      ],
      "metadata": {
        "id": "ymULFKyosM3d"
      }
    },
    {
      "cell_type": "code",
      "source": [
        "#Please create a list containing the three actions of the game.\n",
        "game_actions = [\"rock\", \"paper\", \"scissors\"]"
      ],
      "metadata": {
        "id": "0w6HGZBvsvru"
      },
      "execution_count": null,
      "outputs": []
    },
    {
      "cell_type": "markdown",
      "source": [
        "# Choose an action\n",
        "\n",
        "Now you have the list with the actions ready. The next step is to let Python randomly choose an action from this list. Each player has to make a choice, so Python has to make a choice for player 1 and another one for player 2.\n",
        "\n",
        "📌The built-in module \"random\" can help you with this. As you might remember from previous lessons you can use the .randint() method to generate random numbers.\n",
        "\n",
        "📌📌There is another method in the random module called .choice(). It takes a list as input and selects an item randomly from that list.\n",
        "\n"
      ],
      "metadata": {
        "id": "cnWVzlo1vBy8"
      }
    },
    {
      "cell_type": "code",
      "source": [
        "#Import the random library\n",
        "import random\n",
        "\n",
        "#Select a random action for each player\n",
        "p1 = random.choice(game_actions)\n",
        "p2 = random.choice(game_actions)\n",
        "\n",
        "#Use the print function to print the players choices\n",
        "print(\"Player 1: \", p1)\n",
        "print(\"Player 2: \", p2)"
      ],
      "metadata": {
        "id": "bdlEyJC2xPOw",
        "colab": {
          "base_uri": "https://localhost:8080/"
        },
        "outputId": "12480bb5-8fc0-4583-a1cb-6da9e1d7cc29"
      },
      "execution_count": null,
      "outputs": [
        {
          "output_type": "stream",
          "name": "stdout",
          "text": [
            "Player 1:  scissors\n",
            "Player 2:  paper\n"
          ]
        }
      ]
    },
    {
      "cell_type": "markdown",
      "source": [
        "# Determine the winner\n",
        "\n",
        "So, who won? To determine the winner, you first have to specify all possible outcomes of the game. Then you can use conditional statements to specify which outcome will lead to a win for player 1 or player 2, or a tie.\n",
        "\n",
        "First, let's start with the outcome that both users chose the same action: a tie!\n",
        "In case of a tie, the game should print the message \"Tie! Both players chose the same action.\" to the screen.\n",
        "\n",
        "📌Use conditional statements to check whether the players actions are equal to each other and *if* this condition is true the message should be printed."
      ],
      "metadata": {
        "id": "Yr7uQq1J2k6p"
      }
    },
    {
      "cell_type": "code",
      "source": [
        "#1 - Tie Condition\n",
        "#Please write an if statement to check if the players chose the same action\n",
        "if p1 == p2:\n",
        "  print(\"Tie! Both players chose the same action.\")\n",
        "\n"
      ],
      "metadata": {
        "id": "8S1F2r8NtEoN",
        "colab": {
          "base_uri": "https://localhost:8080/"
        },
        "outputId": "51824a83-f363-4d15-9c0d-45e8c22c2ec4"
      },
      "execution_count": null,
      "outputs": [
        {
          "output_type": "stream",
          "name": "stdout",
          "text": [
            "Tie! Both players chose the same action.\n"
          ]
        }
      ]
    },
    {
      "cell_type": "markdown",
      "source": [
        "Now, let's focus on the remaining outcomes. We have three different actions: rock, paper and scissors.\n",
        "\n",
        "This is a list of all the possible combinations (without those that result in a tie):\n",
        "\n",
        "1.   (paper, rock)\n",
        "2.   (paper, scissors)\n",
        "3.   (scissors, rock)\n",
        "4.   (scissors, paper)\n",
        "5.   (rock, paper)\n",
        "6.   (rock, scissors)\n",
        "\n",
        "You need to check all these conditions in order to determine the winner.\n",
        "\n",
        "📌You can use the \"and\" operator to combine two actions in one conditional statement.\n",
        "\n",
        "📌📌Another approach is using nested if statements to check whether the action of player 2 beats the action of player 1.\n",
        "\n",
        "🧨💣In the cell, first copy the code you wrote for \"Tie\" conditions. Then continue to add the other outcomes using \"elif\".\n",
        "\n",
        "\n"
      ],
      "metadata": {
        "id": "6aKSif7rItma"
      }
    },
    {
      "cell_type": "code",
      "source": [
        "#Copy your code of the tie-conditions here\n",
        "#1 - Tie Condition\n",
        "if p1 == p2:\n",
        "  print(\"Tie! Both players chose the same action.\")\n",
        "\n",
        "#2-Winning Conditions\n",
        "elif p1 == \"rock\":\n",
        "  if p2 == \"scissors\":\n",
        "    print(\"Player 1 wins!!!\")\n",
        "  else:\n",
        "    print(\"Player 2 wins!!!\")\n",
        "\n",
        "elif p1 == \"paper\":\n",
        "  if p2 == \"rock\":\n",
        "    print(\"Player 1 wins!!!\")\n",
        "  else:\n",
        "    print(\"Player 2 wins!!!\")\n",
        "    \n",
        "elif p1 == \"scissors\":\n",
        "  if p2 == \"rock\":\n",
        "    print(\"Player 2 wins!!!\")\n",
        "  else:\n",
        "    print(\"Player 1 wins!!!\") \n",
        "#Please add the conditional statements for the remaining combinations \n"
      ],
      "metadata": {
        "id": "Ix9sskr5z6Td",
        "colab": {
          "base_uri": "https://localhost:8080/"
        },
        "outputId": "6b6c00e3-150b-44c9-9ace-ee47e15f032b"
      },
      "execution_count": null,
      "outputs": [
        {
          "output_type": "stream",
          "name": "stdout",
          "text": [
            "Player 1 wins!!!\n"
          ]
        }
      ]
    },
    {
      "cell_type": "markdown",
      "source": [
        "# Best of 3 or 5 or single round ? :)\n",
        "\n",
        "Now that you have your game set, let's also ask the users how many rounds they want to play.\n",
        "\n",
        "📌 You can use the input function for this.\n",
        "\n",
        "And because there are multiple rounds, you need to keep track of the score. For this, you need to create a variable for each player that is 0 in the beginning.\n"
      ],
      "metadata": {
        "id": "7Ixf-AHqIhcV"
      }
    },
    {
      "cell_type": "code",
      "source": [
        "#Please ask the user how many rounds they want to play\n",
        "round = input(\"How many rounds do you want to play? \")\n",
        "\n",
        "#Scores of players\n",
        "p1_score = 0\n",
        "p2_score = 0\n"
      ],
      "metadata": {
        "id": "_kbrpXXkBU_d"
      },
      "execution_count": null,
      "outputs": []
    },
    {
      "cell_type": "markdown",
      "source": [
        "# Use a for loop to specify the number of rounds \n",
        "The user specified how many rounds he or she wants to play. \n",
        "\n",
        "One way to use this information is to put the game inside of a for loop.\n",
        "\n",
        "📌 You can use a for loop and the range() function to repeat the loop for a specified number of times.\n",
        "\n",
        "📌📌 Don't forget to convert the user input to the data type integer. You can use the int() function for this.\n",
        "\n",
        "📌📌📌 Don't forget to increment or add 1 to the score of the players that win, and print the current score after each round. You can use the assignment operator +=1 for this. "
      ],
      "metadata": {
        "id": "nzIGT6s_CWvP"
      }
    },
    {
      "cell_type": "code",
      "source": [
        "#Collect all the components of your program to run it in a for loop\n",
        "#Import the random library\n",
        "import random\n",
        "\n",
        "#Add the code to create a list containing the three actions of the game.\n",
        "game_actions = [\"rock\", \"paper\", \"scissors\"]\n",
        "\n",
        "#Add the code to set the scores of players to 0\n",
        "p1_score = 0\n",
        "p2_score = 0\n",
        "\n",
        "#Add the code to ask the user how many rounds they want to play\n",
        "round = int(input(\"How many rounds do you want to play? \"))\n",
        "\n",
        "#Write a for loop and put the game inside\n",
        "for i in range(round):\n",
        "\n",
        "\n",
        "\n",
        "  #Add the code to select a random action for each player\n",
        "  p1 = random.choice(game_actions)\n",
        "  p2 = random.choice(game_actions)\n",
        "\n",
        "\n",
        "\n",
        "  #Add the code to print the players choices\n",
        "\n",
        "  print(\"Player 1: \", p1)\n",
        "  print(\"Player 2: \", p2)\n",
        "\n",
        "  #Add the tie condition\n",
        "  if p1 == p2:\n",
        "    print(\"Tie! Both players chose the same action.\")\n",
        "\n",
        "  #Add the remaining condition \n",
        "  elif p1 == \"rock\":\n",
        "    if p2 == \"scissors\":\n",
        "      print(\"Player 1 wins!!!\")\n",
        "      p1_score +=1\n",
        "    else:\n",
        "      print(\"Player 2 wins!!!\")\n",
        "      p2_score +=1\n",
        "  elif p1 == \"paper\":\n",
        "    if p2 == \"rock\":\n",
        "      print(\"Player 1 wins!!!\")\n",
        "      p1_score +=1\n",
        "    else:\n",
        "      print(\"Player 2 wins!!!\")\n",
        "      p2_score +=1\n",
        "  else:\n",
        "    if p2 == \"rock\":\n",
        "      print(\"Player 2 wins!!!\")\n",
        "      p2_score +=1\n",
        "    else:\n",
        "      print(\"Player 1 wins!!!\")\n",
        "      p1_score +=1\n",
        "\n",
        "\n",
        "  #print the score\n",
        "print(\"Scores are: \", p1_score, p2_score)\n",
        "\n"
      ],
      "metadata": {
        "id": "Wy7CLLRNCV3X",
        "colab": {
          "base_uri": "https://localhost:8080/"
        },
        "outputId": "e5bbc6c2-d688-48f6-898b-b9e9f8e45b1e"
      },
      "execution_count": null,
      "outputs": [
        {
          "output_type": "stream",
          "name": "stdout",
          "text": [
            "How many rounds do you want to play? 6\n",
            "Player 1:  rock\n",
            "Player 2:  paper\n",
            "Player 2 wins!!!\n",
            "Player 1:  paper\n",
            "Player 2:  scissors\n",
            "Player 2 wins!!!\n",
            "Player 1:  rock\n",
            "Player 2:  scissors\n",
            "Player 1 wins!!!\n",
            "Player 1:  paper\n",
            "Player 2:  scissors\n",
            "Player 2 wins!!!\n",
            "Player 1:  paper\n",
            "Player 2:  paper\n",
            "Tie! Both players chose the same action.\n",
            "Player 1:  scissors\n",
            "Player 2:  paper\n",
            "Player 1 wins!!!\n",
            "Scores are:  2 3\n"
          ]
        }
      ]
    },
    {
      "cell_type": "markdown",
      "source": [
        "# Use a while loop to specify the number of rounds - Part 1\n",
        "\n",
        "In this module we also learned about while loops. Another way to play the game over and over again is using a while loop. \n",
        "\n",
        "This time, let's put the game inside a while loop.\n",
        "\n",
        "📌 You can directly use the value *True* to specify that the while loop should be executed. \n",
        "\n",
        "💣 By the way: Another very common name for True/False values is \"**Boolean values**\" or \"**Bools**\" in short.\n",
        "\n",
        "🧨🧨 Caution! Since we run the game in an while loop, you have to stop the game manually. Otherwise it will run infinitely.\n"
      ],
      "metadata": {
        "id": "QQIXQsmRwGqB"
      }
    },
    {
      "cell_type": "code",
      "source": [
        "#Collect all the components of your program to run it in a while loop\n",
        "#Import the random library\n",
        "import random\n",
        "\n",
        "#Add the code to create a list containing the three actions of the game.\n",
        "game_actions = [\"rock\", \"paper\", \"scissors\"]\n",
        "\n",
        "#Add the code to set the scores of players to 0\n",
        "p1_score = 0\n",
        "p2_score = 0\n",
        "#Write a while loop and put the game inside\n",
        "while(True):\n",
        "  i = int(input(\"If you want to stop the game please enter 99\"))\n",
        "   #Add the code to select a random action for each player\n",
        "  p1 = random.choice(game_actions)\n",
        "  p2 = random.choice(game_actions)\n",
        "\n",
        "\n",
        "\n",
        "  #Add the code to print the players choices\n",
        "\n",
        "  print(\"Player 1: \", p1)\n",
        "  print(\"Player 2: \", p2)\n",
        "\n",
        "  #Add the tie condition\n",
        "  if p1 == p2:\n",
        "    print(\"Tie! Both players chose the same action.\")\n",
        "\n",
        "  #Add the remaining condition \n",
        "  elif p1 == \"rock\":\n",
        "    if p2 == \"scissors\":\n",
        "      print(\"Player 1 wins!!!\")\n",
        "      p1_score +=1\n",
        "    elif p2 == \"paper\":\n",
        "      print(\"Player 2 wins!!!\")\n",
        "      p2_score +=1\n",
        "  elif p1 == \"paper\":\n",
        "    if p2 == \"rock\":\n",
        "      print(\"Player 1 wins!!!\")\n",
        "      p1_score +=1\n",
        "    elif p2 == \"scissors\":\n",
        "      print(\"Player 2 wins!!!\")\n",
        "      p2_score +=1\n",
        "  else:\n",
        "    if p2 == \"rock\":\n",
        "      print(\"Player 2 wins!!!\")\n",
        "      p2_score +=1\n",
        "    elif p2 == \"paper\":\n",
        "      print(\"Player 1 wins!!!\")\n",
        "      p1_score +=1\n",
        "  if(i == 99):\n",
        "    break\n",
        "  #print the score\n",
        "print(\"Scores are: \", p1_score, p2_score)"
      ],
      "metadata": {
        "id": "dvTr4HR4wF4n",
        "colab": {
          "base_uri": "https://localhost:8080/"
        },
        "outputId": "73ae027c-1118-4cdf-822a-20612fb7406d"
      },
      "execution_count": null,
      "outputs": [
        {
          "output_type": "stream",
          "name": "stdout",
          "text": [
            "If you want to stop the game please enter 991\n",
            "Player 1:  rock\n",
            "Player 2:  paper\n",
            "Player 2 wins!!!\n",
            "If you want to stop the game please enter 993\n",
            "Player 1:  rock\n",
            "Player 2:  rock\n",
            "Tie! Both players chose the same action.\n",
            "If you want to stop the game please enter 995\n",
            "Player 1:  rock\n",
            "Player 2:  paper\n",
            "Player 2 wins!!!\n",
            "If you want to stop the game please enter 993\n",
            "Player 1:  paper\n",
            "Player 2:  rock\n",
            "Player 1 wins!!!\n",
            "If you want to stop the game please enter 993\n",
            "Player 1:  scissors\n",
            "Player 2:  scissors\n",
            "Tie! Both players chose the same action.\n",
            "If you want to stop the game please enter 993\n",
            "Player 1:  scissors\n",
            "Player 2:  scissors\n",
            "Tie! Both players chose the same action.\n",
            "If you want to stop the game please enter 991\n",
            "Player 1:  scissors\n",
            "Player 2:  rock\n",
            "Player 2 wins!!!\n",
            "If you want to stop the game please enter 991\n",
            "Player 1:  rock\n",
            "Player 2:  paper\n",
            "Player 2 wins!!!\n",
            "If you want to stop the game please enter 991\n",
            "Player 1:  paper\n",
            "Player 2:  rock\n",
            "Player 1 wins!!!\n",
            "If you want to stop the game please enter 9999\n",
            "Player 1:  paper\n",
            "Player 2:  scissors\n",
            "Player 2 wins!!!\n",
            "Scores are:  2 5\n"
          ]
        }
      ]
    },
    {
      "cell_type": "markdown",
      "source": [
        "# Use a while loop to specify the number of rounds - Part 2\n",
        "\n",
        "Now the game runs infinitely and the user can end it manually. But there is a more efficient way to do this: Let's ask the user again how many rounds they want to play, just as you did for the game inside the for loop.\n",
        "\n",
        "To prevent an infinite loop, you need to add a round_counter that is 0 at the beginning. In each round, this counter needs to increase by 1. \n",
        "\n",
        "At the end of your while loop, you need to add an \"if\" condition to check whether the round_counter is equal to the number of rounds that we got from user as an input. If this is the case, we need to use \"**break**\" to end the game.\n",
        "\n",
        "Once we end the game, it would be nice to see a message that prints the winner to the screen. In case of a tie, it should print a message that the game ended in a tie.\n",
        "\n",
        "📌 You can use \"if\" and \"elif\" statements to determine the winner at the end."
      ],
      "metadata": {
        "id": "YKVAuxIsjaE6"
      }
    },
    {
      "cell_type": "code",
      "source": [
        "#Collect all the components of your program to run it in a while loop\n",
        "#Import the random library\n",
        "import random\n",
        "\n",
        "#Add the code to create a list containing the three actions of the game.\n",
        "game_actions = [\"rock\", \"paper\", \"scissors\"]\n",
        "\n",
        "#Add the code to set the scores of players and counter to 0\n",
        "p1_score = 0\n",
        "p2_score = 0\n",
        "i = 0\n",
        "#Add the code to ask the user how many rounds they want to play\n",
        "round = int(input(\"How many rounds you want to play? \"))\n",
        "\n",
        "#Write a while loop and put the game inside\n",
        "while(True):\n",
        "\n",
        "\n",
        "  #increase round_counter by 1 and print it\n",
        "  i += 1\n",
        "\n",
        "  #Add the code to select a random action for each player\n",
        "  p1 = random.choice(game_actions)\n",
        "  p2 = random.choice(game_actions)\n",
        "\n",
        "\n",
        "\n",
        "  #Add the code to print the players choices\n",
        "  print()\n",
        "  print(\"Player 1: \", p1)\n",
        "  print(\"Player 2: \", p2)\n",
        "\n",
        "  #Add the tie condition\n",
        "  if p1 == p2:\n",
        "    print(\"Tie! Both players chose the same action.\")\n",
        "\n",
        "  #Add the remaining condition \n",
        "  elif p1 == \"rock\":\n",
        "    if p2 == \"scissors\":\n",
        "      print(\"Player 1 wins!!!\")\n",
        "      p1_score +=1\n",
        "    elif p2 == \"paper\":\n",
        "      print(\"Player 2 wins!!!\")\n",
        "      p2_score +=1\n",
        "  elif p1 == \"paper\":\n",
        "    if p2 == \"rock\":\n",
        "      print(\"Player 1 wins!!!\")\n",
        "      p1_score +=1\n",
        "    elif p2 == \"scissors\":\n",
        "      print(\"Player 2 wins!!!\")\n",
        "      p2_score +=1\n",
        "  else:\n",
        "    if p2 == \"rock\":\n",
        "      print(\"Player 2 wins!!!\")\n",
        "      p2_score +=1\n",
        "    elif p2 == \"paper\":\n",
        "      print(\"Player 1 wins!!!\")\n",
        "      p1_score +=1\n",
        "\n",
        "\n",
        "  #stop the while loop if the round_counter equals the number of total rounds\n",
        "   \n",
        "  if(i >= round):\n",
        "    break\n",
        "#Print the outcome of the game by using conditional statements\n",
        "if p1_score == p2_score:\n",
        "  print(\"There is no winner, tie.\")\n",
        "elif p1_score > p2_score:\n",
        "  print(\"Player 1 won with score\", p1_score, \"vs\", p2_score)\n",
        "elif p1_score < p2_score:\n",
        "  print(\"Player 2 won with score\", p1_score, \"vs\", p2_score) "
      ],
      "metadata": {
        "id": "emrjgYoXjYCR",
        "colab": {
          "base_uri": "https://localhost:8080/"
        },
        "outputId": "872d6547-42b9-43fe-d6a8-f043807663b7"
      },
      "execution_count": null,
      "outputs": [
        {
          "output_type": "stream",
          "name": "stdout",
          "text": [
            "How many rounds you want to play? 5\n",
            "\n",
            "Player 1:  paper\n",
            "Player 2:  scissors\n",
            "Player 2 wins!!!\n",
            "\n",
            "Player 1:  scissors\n",
            "Player 2:  rock\n",
            "Player 2 wins!!!\n",
            "\n",
            "Player 1:  rock\n",
            "Player 2:  paper\n",
            "Player 2 wins!!!\n",
            "\n",
            "Player 1:  scissors\n",
            "Player 2:  rock\n",
            "Player 2 wins!!!\n",
            "\n",
            "Player 1:  scissors\n",
            "Player 2:  paper\n",
            "Player 1 wins!!!\n",
            "Player 2 won with score 1 vs 4\n"
          ]
        }
      ]
    }
  ]
}